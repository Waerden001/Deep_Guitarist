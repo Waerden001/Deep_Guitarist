{
 "cells": [
  {
   "cell_type": "code",
   "execution_count": 1,
   "metadata": {},
   "outputs": [],
   "source": [
    "from pychord.constants import DEGREE_INTERVAL_DICT as a"
   ]
  },
  {
   "cell_type": "code",
   "execution_count": 2,
   "metadata": {},
   "outputs": [],
   "source": [
    "from pychord import Fretboard, Chord, Scale"
   ]
  },
  {
   "cell_type": "code",
   "execution_count": 3,
   "metadata": {},
   "outputs": [],
   "source": [
    "PB = Fretboard('standard', 12)"
   ]
  },
  {
   "cell_type": "code",
   "execution_count": 4,
   "metadata": {},
   "outputs": [
    {
     "name": "stdout",
     "output_type": "stream",
     "text": [
      "\\node[yellow_node] at (6-2){\\textbf{{6}}};\n",
      "\\node[black_node] at (6-5){\\textbf{{0}}};\n",
      "\\node[blue_node] at (6-9){\\textbf{{3}}};\n",
      "\\node[white_node] at (6-12){\\textbf{{5}}};\n",
      "\\node[blue_node] at (5-2){\\textbf{{3}}};\n",
      "\\node[white_node] at (5-5){\\textbf{{5}}};\n",
      "\\node[yellow_node] at (5-7){\\textbf{{6}}};\n",
      "\\node[black_node] at (5-10){\\textbf{{0}}};\n",
      "\\node[black_node] at (4-2){\\textbf{{0}}};\n",
      "\\node[blue_node] at (4-6){\\textbf{{3}}};\n",
      "\\node[white_node] at (4-9){\\textbf{{5}}};\n",
      "\\node[yellow_node] at (4-11){\\textbf{{6}}};\n",
      "\\node[white_node] at (3-2){\\textbf{{5}}};\n",
      "\\node[yellow_node] at (3-4){\\textbf{{6}}};\n",
      "\\node[black_node] at (3-7){\\textbf{{0}}};\n",
      "\\node[blue_node] at (3-11){\\textbf{{3}}};\n",
      "\\node[blue_node] at (2-4){\\textbf{{3}}};\n",
      "\\node[white_node] at (2-7){\\textbf{{5}}};\n",
      "\\node[yellow_node] at (2-9){\\textbf{{6}}};\n",
      "\\node[black_node] at (2-12){\\textbf{{0}}};\n",
      "\\node[yellow_node] at (1-2){\\textbf{{6}}};\n",
      "\\node[black_node] at (1-5){\\textbf{{0}}};\n",
      "\\node[blue_node] at (1-9){\\textbf{{3}}};\n",
      "\\node[white_node] at (1-12){\\textbf{{5}}};\n",
      "\n"
     ]
    }
   ],
   "source": [
    "print(PB.note_tex(Chord('A6'), 'number'))"
   ]
  },
  {
   "cell_type": "code",
   "execution_count": 5,
   "metadata": {},
   "outputs": [
    {
     "name": "stdout",
     "output_type": "stream",
     "text": [
      "\\documentclass[margin=.2cm]{standalone}\n",
      "\n",
      "\n",
      "\n",
      "\\usepackage{tikz}\n",
      "\n",
      "\\usetikzlibrary{calc,arrows}\n",
      "\n",
      "\n",
      "\n",
      "  %% We define the name of each number\n",
      "\n",
      "  \\newcommand\\savename[2]{\\expandafter\\xdef\\csname name#1\\endcsname{#2}}\n",
      "\n",
      "  \\newcommand\\getname[1]{\\csname name#1\\endcsname}\n",
      "\n",
      "\n",
      "\n",
      "\n",
      "\n",
      "\\begin{document}\n",
      "\n",
      "\n",
      "\n",
      "\\begin{tikzpicture}[\n",
      "\n",
      "    ynode/.style={draw=black!50,circle,fill=black!50,scale=.35,inner sep=1pt,minimum size=1.7em}, %%For markers and Buckles%%\n",
      "\n",
      "    black_node/.style={draw=black!50,circle,fill=black!50,scale=.35,inner sep=1pt,minimum size=1.7em},\n",
      "\n",
      "    white_node/.style={draw=white!50,circle,fill=white!50,scale=.35,inner sep=1pt,minimum size=1.7em},\n",
      "\n",
      "    red_node/.style={draw=red!50,circle,fill=red!50,scale=.35,inner sep=1pt,minimum size=1.7em},\n",
      "\n",
      "    orange_node/.style={draw=orange!50,circle,fill=orange!50,scale=.35,inner sep=1pt,minimum size=1.7em},\n",
      "\n",
      "    yellow_node/.style={draw=yellow!50,circle,fill=yellow!50,scale=.35,inner sep=1pt,minimum size=1.7em},\n",
      "\n",
      "    green_node/.style={draw=green!50,circle,fill=green!50,scale=.35,inner sep=1pt,minimum size=1.7em},\n",
      "\n",
      "    cyan_node/.style={draw=cyan!50,circle,fill=cyan!50,scale=.35,inner sep=1pt,minimum size=1.7em},\n",
      "\n",
      "    blue_node/.style={draw=blue!50,circle,fill=blue!50,scale=.35,inner sep=1pt,minimum size=1.7em},\n",
      "\n",
      "    purple_node/.style={draw=purple!50,circle,fill=purple!50,scale=.35,inner sep=1pt,minimum size=1.7em},\n",
      "\n",
      "    pink_node/.style={draw=pink!50,circle,fill=pink!50,scale=.35,inner sep=1pt,minimum size=1.7em}]\n",
      "\n",
      "\n",
      "\n",
      "  %%%% Draw the base and set coordinates %%%%\n",
      "\n",
      "  \\begin{scope}[xscale=-15,yscale=.3,line width=.5]\n",
      "\n",
      "\n",
      "\n",
      "    \\xdef\\x{1}\n",
      "\n",
      "    %% Left line\n",
      "\n",
      "    \\draw[line width=1.5] (1,1) -- (1,6);\n",
      "\n",
      "    \\foreach \\fret in {1,...,12}{\n",
      "\n",
      "      %% Set coordinate for each string\n",
      "\n",
      "      \\foreach \\str in {1,...,6}{\n",
      "\n",
      "        \\coordinate (\\str-\\fret) at (0.97193715634*\\x,\\str);\n",
      "\n",
      "      }\n",
      "\n",
      "      %% Set coordinate for the text above\n",
      "\n",
      "      \\coordinate (Top-\\fret) at (0.97193715634*\\x,7);\n",
      "\n",
      "      %% Compute the position of the fret\n",
      "\n",
      "      \\pgfmathsetmacro\\x{\\x * 0.94387431268}\n",
      "\n",
      "      \\xdef\\x{\\x}\n",
      "\n",
      "      %% Draw the fret\n",
      "\n",
      "      \\draw (\\x,1) -- (\\x,6);\n",
      "\n",
      "    }\n",
      "\n",
      "\n",
      "\n",
      "    %% Draw each string\n",
      "\n",
      "    \\foreach \\str in {1,...,6}{\n",
      "\n",
      "      \\draw (1,\\str) -- (0.97153194115*\\x,\\str);\n",
      "\n",
      "      \\coordinate (start\\str) at (1,\\str);\n",
      "\n",
      "    }\n",
      "\n",
      "  \\end{scope}\n",
      "\n",
      "\n",
      "\n",
      "  %% Draw the mark on the guitare\n",
      "\n",
      "  \\foreach \\f in {3,5,7,9}{\n",
      "\n",
      "    \\draw[black!20,fill=black!10] ($(3-\\f)!.5!(4-\\f)$) circle (.08);\n",
      "\n",
      "  }\n",
      "\n",
      "  \\draw[opacity=.20,fill,fill opacity=.10] (2-12) circle (.08) (5-12) circle (.08);\n",
      "\n",
      "  \\foreach \\n/\\t in {0/C,1/C$\\sharp$,2/D,3/D$\\sharp$,4/E,5/F,6/F$\\sharp$,7/G,8/G$\\sharp$,9/A,10/A$\\sharp$, 11/B}{\n",
      "\n",
      "    \\savename{\\n}{\\t}\n",
      "\n",
      "  } %%%%SHARP KEY\n",
      "\n",
      "\n",
      "\n",
      "  %% Boucle on the string and the first note (given its number)\n",
      "\n",
      "  \\foreach \\str/\\note in {1/4, 2/9, 3/2, 4/7, 5/11, 6/4}{\n",
      "\n",
      "    \\node[anchor=east] at (start\\str) {\\scriptsize\\getname{\\note}};\n",
      "\n",
      "  }\n",
      "\n",
      "  \n",
      "\n",
      "  \n",
      "\n",
      "  \n",
      "\n",
      "\\node[yellow_node] at (6-2){\\textbf{{6}}};\n",
      "\\node[black_node] at (6-5){\\textbf{{0}}};\n",
      "\\node[blue_node] at (6-9){\\textbf{{3}}};\n",
      "\\node[white_node] at (6-12){\\textbf{{5}}};\n",
      "\\node[blue_node] at (5-2){\\textbf{{3}}};\n",
      "\\node[white_node] at (5-5){\\textbf{{5}}};\n",
      "\\node[yellow_node] at (5-7){\\textbf{{6}}};\n",
      "\\node[black_node] at (5-10){\\textbf{{0}}};\n",
      "\\node[black_node] at (4-2){\\textbf{{0}}};\n",
      "\\node[blue_node] at (4-6){\\textbf{{3}}};\n",
      "\\node[white_node] at (4-9){\\textbf{{5}}};\n",
      "\\node[yellow_node] at (4-11){\\textbf{{6}}};\n",
      "\\node[white_node] at (3-2){\\textbf{{5}}};\n",
      "\\node[yellow_node] at (3-4){\\textbf{{6}}};\n",
      "\\node[black_node] at (3-7){\\textbf{{0}}};\n",
      "\\node[blue_node] at (3-11){\\textbf{{3}}};\n",
      "\\node[blue_node] at (2-4){\\textbf{{3}}};\n",
      "\\node[white_node] at (2-7){\\textbf{{5}}};\n",
      "\\node[yellow_node] at (2-9){\\textbf{{6}}};\n",
      "\\node[black_node] at (2-12){\\textbf{{0}}};\n",
      "\\node[yellow_node] at (1-2){\\textbf{{6}}};\n",
      "\\node[black_node] at (1-5){\\textbf{{0}}};\n",
      "\\node[blue_node] at (1-9){\\textbf{{3}}};\n",
      "\\node[white_node] at (1-12){\\textbf{{5}}};\n",
      "\n",
      "\n",
      "  \n",
      "\n",
      "  %% Number above each space\n",
      "\n",
      "  \\foreach \\fret in {1,...,12}{\n",
      "\n",
      "    \\node[scale=.8] at (Top-\\fret) {\\tiny \\fret};\n",
      "\n",
      "  }\n",
      "\n",
      "\\end{tikzpicture}\n",
      "\n",
      "\n",
      "\n",
      "\\end{document}\n"
     ]
    }
   ],
   "source": [
    "PB.texify(Chord('A6'), 'number')"
   ]
  },
  {
   "cell_type": "code",
   "execution_count": null,
   "metadata": {},
   "outputs": [],
   "source": [
    "PB.table()"
   ]
  },
  {
   "cell_type": "code",
   "execution_count": null,
   "metadata": {},
   "outputs": [],
   "source": [
    "PB.coordinates('Gb')"
   ]
  },
  {
   "cell_type": "code",
   "execution_count": null,
   "metadata": {},
   "outputs": [],
   "source": [
    "from pychord import Chord, Scale"
   ]
  },
  {
   "cell_type": "code",
   "execution_count": null,
   "metadata": {},
   "outputs": [],
   "source": [
    "c = Scale(\"Cmajpenta\")"
   ]
  },
  {
   "cell_type": "code",
   "execution_count": null,
   "metadata": {},
   "outputs": [],
   "source": [
    "c"
   ]
  },
  {
   "cell_type": "code",
   "execution_count": null,
   "metadata": {},
   "outputs": [],
   "source": [
    "c.quality.components"
   ]
  },
  {
   "cell_type": "code",
   "execution_count": null,
   "metadata": {},
   "outputs": [],
   "source": [
    "c.components()"
   ]
  },
  {
   "cell_type": "code",
   "execution_count": null,
   "metadata": {},
   "outputs": [],
   "source": [
    "isinstance(c, Scale)"
   ]
  },
  {
   "cell_type": "code",
   "execution_count": null,
   "metadata": {},
   "outputs": [],
   "source": [
    "PB.coordinates(c)"
   ]
  },
  {
   "cell_type": "code",
   "execution_count": null,
   "metadata": {},
   "outputs": [],
   "source": [
    "c.components()"
   ]
  },
  {
   "cell_type": "code",
   "execution_count": null,
   "metadata": {},
   "outputs": [],
   "source": [
    "notes\n"
   ]
  },
  {
   "cell_type": "code",
   "execution_count": null,
   "metadata": {},
   "outputs": [],
   "source": [
    "Chord(\"A\").quality.get_components(root=\"A\", visible=True)"
   ]
  },
  {
   "cell_type": "code",
   "execution_count": null,
   "metadata": {},
   "outputs": [],
   "source": []
  }
 ],
 "metadata": {
  "kernelspec": {
   "display_name": "Python 3",
   "language": "python",
   "name": "python3"
  },
  "language_info": {
   "codemirror_mode": {
    "name": "ipython",
    "version": 3
   },
   "file_extension": ".py",
   "mimetype": "text/x-python",
   "name": "python",
   "nbconvert_exporter": "python",
   "pygments_lexer": "ipython3",
   "version": "3.7.4"
  }
 },
 "nbformat": 4,
 "nbformat_minor": 2
}
