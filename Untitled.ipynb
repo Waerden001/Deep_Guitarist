{
 "cells": [
  {
   "cell_type": "code",
   "execution_count": 1,
   "metadata": {},
   "outputs": [],
   "source": [
    "from pychord import Fretboard"
   ]
  },
  {
   "cell_type": "code",
   "execution_count": 2,
   "metadata": {},
   "outputs": [],
   "source": [
    "PB = Fretboard(\"standard\")\n"
   ]
  },
  {
   "cell_type": "code",
   "execution_count": 3,
   "metadata": {},
   "outputs": [
    {
     "data": {
      "text/plain": [
       "\"standard tuning, low to high = ('E', 'A', 'D', 'G', 'B', 'E')\""
      ]
     },
     "execution_count": 3,
     "metadata": {},
     "output_type": "execute_result"
    }
   ],
   "source": [
    "PB.info()"
   ]
  },
  {
   "cell_type": "code",
   "execution_count": 4,
   "metadata": {},
   "outputs": [
    {
     "name": "stdout",
     "output_type": "stream",
     "text": [
      "[]\n"
     ]
    }
   ],
   "source": [
    "print(PB.coordinates(\"E\"))"
   ]
  },
  {
   "cell_type": "code",
   "execution_count": 5,
   "metadata": {},
   "outputs": [
    {
     "data": {
      "text/plain": [
       "OrderedDict([(1,\n",
       "              [((1, 0), ['E']),\n",
       "               ((1, 1), ['F']),\n",
       "               ((1, 2), ['F#', 'Gb']),\n",
       "               ((1, 3), ['G']),\n",
       "               ((1, 4), ['Ab', 'G#']),\n",
       "               ((1, 5), ['A']),\n",
       "               ((1, 6), ['Bb', 'A#']),\n",
       "               ((1, 7), ['B', 'Cb']),\n",
       "               ((1, 8), ['C']),\n",
       "               ((1, 9), ['Db', 'C#']),\n",
       "               ((1, 10), ['D']),\n",
       "               ((1, 11), ['Eb', 'D#']),\n",
       "               ((1, 12), ['E']),\n",
       "               ((1, 13), ['F']),\n",
       "               ((1, 14), ['F#', 'Gb']),\n",
       "               ((1, 15), ['G']),\n",
       "               ((1, 16), ['Ab', 'G#']),\n",
       "               ((1, 17), ['A']),\n",
       "               ((1, 18), ['Bb', 'A#']),\n",
       "               ((1, 19), ['B', 'Cb']),\n",
       "               ((1, 20), ['C']),\n",
       "               ((1, 21), ['Db', 'C#']),\n",
       "               ((1, 22), ['D']),\n",
       "               ((1, 23), ['Eb', 'D#']),\n",
       "               ((1, 24), ['E'])]),\n",
       "             (2,\n",
       "              [((2, 0), ['B', 'Cb']),\n",
       "               ((2, 1), ['C']),\n",
       "               ((2, 2), ['Db', 'C#']),\n",
       "               ((2, 3), ['D']),\n",
       "               ((2, 4), ['Eb', 'D#']),\n",
       "               ((2, 5), ['E']),\n",
       "               ((2, 6), ['F']),\n",
       "               ((2, 7), ['F#', 'Gb']),\n",
       "               ((2, 8), ['G']),\n",
       "               ((2, 9), ['Ab', 'G#']),\n",
       "               ((2, 10), ['A']),\n",
       "               ((2, 11), ['Bb', 'A#']),\n",
       "               ((2, 12), ['B', 'Cb']),\n",
       "               ((2, 13), ['C']),\n",
       "               ((2, 14), ['Db', 'C#']),\n",
       "               ((2, 15), ['D']),\n",
       "               ((2, 16), ['Eb', 'D#']),\n",
       "               ((2, 17), ['E']),\n",
       "               ((2, 18), ['F']),\n",
       "               ((2, 19), ['F#', 'Gb']),\n",
       "               ((2, 20), ['G']),\n",
       "               ((2, 21), ['Ab', 'G#']),\n",
       "               ((2, 22), ['A']),\n",
       "               ((2, 23), ['Bb', 'A#']),\n",
       "               ((2, 24), ['B', 'Cb'])]),\n",
       "             (3,\n",
       "              [((3, 0), ['G']),\n",
       "               ((3, 1), ['Ab', 'G#']),\n",
       "               ((3, 2), ['A']),\n",
       "               ((3, 3), ['Bb', 'A#']),\n",
       "               ((3, 4), ['B', 'Cb']),\n",
       "               ((3, 5), ['C']),\n",
       "               ((3, 6), ['Db', 'C#']),\n",
       "               ((3, 7), ['D']),\n",
       "               ((3, 8), ['Eb', 'D#']),\n",
       "               ((3, 9), ['E']),\n",
       "               ((3, 10), ['F']),\n",
       "               ((3, 11), ['F#', 'Gb']),\n",
       "               ((3, 12), ['G']),\n",
       "               ((3, 13), ['Ab', 'G#']),\n",
       "               ((3, 14), ['A']),\n",
       "               ((3, 15), ['Bb', 'A#']),\n",
       "               ((3, 16), ['B', 'Cb']),\n",
       "               ((3, 17), ['C']),\n",
       "               ((3, 18), ['Db', 'C#']),\n",
       "               ((3, 19), ['D']),\n",
       "               ((3, 20), ['Eb', 'D#']),\n",
       "               ((3, 21), ['E']),\n",
       "               ((3, 22), ['F']),\n",
       "               ((3, 23), ['F#', 'Gb']),\n",
       "               ((3, 24), ['G'])]),\n",
       "             (4,\n",
       "              [((4, 0), ['D']),\n",
       "               ((4, 1), ['Eb', 'D#']),\n",
       "               ((4, 2), ['E']),\n",
       "               ((4, 3), ['F']),\n",
       "               ((4, 4), ['F#', 'Gb']),\n",
       "               ((4, 5), ['G']),\n",
       "               ((4, 6), ['Ab', 'G#']),\n",
       "               ((4, 7), ['A']),\n",
       "               ((4, 8), ['Bb', 'A#']),\n",
       "               ((4, 9), ['B', 'Cb']),\n",
       "               ((4, 10), ['C']),\n",
       "               ((4, 11), ['Db', 'C#']),\n",
       "               ((4, 12), ['D']),\n",
       "               ((4, 13), ['Eb', 'D#']),\n",
       "               ((4, 14), ['E']),\n",
       "               ((4, 15), ['F']),\n",
       "               ((4, 16), ['F#', 'Gb']),\n",
       "               ((4, 17), ['G']),\n",
       "               ((4, 18), ['Ab', 'G#']),\n",
       "               ((4, 19), ['A']),\n",
       "               ((4, 20), ['Bb', 'A#']),\n",
       "               ((4, 21), ['B', 'Cb']),\n",
       "               ((4, 22), ['C']),\n",
       "               ((4, 23), ['Db', 'C#']),\n",
       "               ((4, 24), ['D'])]),\n",
       "             (5,\n",
       "              [((5, 0), ['A']),\n",
       "               ((5, 1), ['Bb', 'A#']),\n",
       "               ((5, 2), ['B', 'Cb']),\n",
       "               ((5, 3), ['C']),\n",
       "               ((5, 4), ['Db', 'C#']),\n",
       "               ((5, 5), ['D']),\n",
       "               ((5, 6), ['Eb', 'D#']),\n",
       "               ((5, 7), ['E']),\n",
       "               ((5, 8), ['F']),\n",
       "               ((5, 9), ['F#', 'Gb']),\n",
       "               ((5, 10), ['G']),\n",
       "               ((5, 11), ['Ab', 'G#']),\n",
       "               ((5, 12), ['A']),\n",
       "               ((5, 13), ['Bb', 'A#']),\n",
       "               ((5, 14), ['B', 'Cb']),\n",
       "               ((5, 15), ['C']),\n",
       "               ((5, 16), ['Db', 'C#']),\n",
       "               ((5, 17), ['D']),\n",
       "               ((5, 18), ['Eb', 'D#']),\n",
       "               ((5, 19), ['E']),\n",
       "               ((5, 20), ['F']),\n",
       "               ((5, 21), ['F#', 'Gb']),\n",
       "               ((5, 22), ['G']),\n",
       "               ((5, 23), ['Ab', 'G#']),\n",
       "               ((5, 24), ['A'])]),\n",
       "             (6,\n",
       "              [((6, 0), ['E']),\n",
       "               ((6, 1), ['F']),\n",
       "               ((6, 2), ['F#', 'Gb']),\n",
       "               ((6, 3), ['G']),\n",
       "               ((6, 4), ['Ab', 'G#']),\n",
       "               ((6, 5), ['A']),\n",
       "               ((6, 6), ['Bb', 'A#']),\n",
       "               ((6, 7), ['B', 'Cb']),\n",
       "               ((6, 8), ['C']),\n",
       "               ((6, 9), ['Db', 'C#']),\n",
       "               ((6, 10), ['D']),\n",
       "               ((6, 11), ['Eb', 'D#']),\n",
       "               ((6, 12), ['E']),\n",
       "               ((6, 13), ['F']),\n",
       "               ((6, 14), ['F#', 'Gb']),\n",
       "               ((6, 15), ['G']),\n",
       "               ((6, 16), ['Ab', 'G#']),\n",
       "               ((6, 17), ['A']),\n",
       "               ((6, 18), ['Bb', 'A#']),\n",
       "               ((6, 19), ['B', 'Cb']),\n",
       "               ((6, 20), ['C']),\n",
       "               ((6, 21), ['Db', 'C#']),\n",
       "               ((6, 22), ['D']),\n",
       "               ((6, 23), ['Eb', 'D#']),\n",
       "               ((6, 24), ['E'])])])"
      ]
     },
     "execution_count": 5,
     "metadata": {},
     "output_type": "execute_result"
    }
   ],
   "source": [
    "PB._table"
   ]
  },
  {
   "cell_type": "code",
   "execution_count": 10,
   "metadata": {},
   "outputs": [],
   "source": [
    "c.transpose(5)"
   ]
  },
  {
   "cell_type": "code",
   "execution_count": 11,
   "metadata": {},
   "outputs": [
    {
     "data": {
      "text/plain": [
       "<Scale: Gmajpenta>"
      ]
     },
     "execution_count": 11,
     "metadata": {},
     "output_type": "execute_result"
    }
   ],
   "source": [
    "c"
   ]
  },
  {
   "cell_type": "code",
   "execution_count": 12,
   "metadata": {},
   "outputs": [
    {
     "data": {
      "text/plain": [
       "['G', 'A', 'B', 'D', 'E', 'G']"
      ]
     },
     "execution_count": 12,
     "metadata": {},
     "output_type": "execute_result"
    }
   ],
   "source": [
    "c.components()"
   ]
  },
  {
   "cell_type": "code",
   "execution_count": 16,
   "metadata": {},
   "outputs": [
    {
     "name": "stdout",
     "output_type": "stream",
     "text": [
      "False\n"
     ]
    }
   ],
   "source": [
    "print(c == Scale(\"Fmaj\"))"
   ]
  },
  {
   "cell_type": "code",
   "execution_count": 14,
   "metadata": {},
   "outputs": [
    {
     "data": {
      "text/plain": [
       "['A#', 'B', 'D', 'F#', 'A']"
      ]
     },
     "execution_count": 14,
     "metadata": {},
     "output_type": "execute_result"
    }
   ],
   "source": [
    "c.components()"
   ]
  },
  {
   "cell_type": "code",
   "execution_count": 15,
   "metadata": {},
   "outputs": [
    {
     "data": {
      "text/plain": [
       "'B'"
      ]
     },
     "execution_count": 15,
     "metadata": {},
     "output_type": "execute_result"
    }
   ],
   "source": [
    "c.root"
   ]
  },
  {
   "cell_type": "code",
   "execution_count": 16,
   "metadata": {},
   "outputs": [
    {
     "data": {
      "text/plain": [
       "['D#', 'E', 'G', 'B', 'D']"
      ]
     },
     "execution_count": 16,
     "metadata": {},
     "output_type": "execute_result"
    }
   ],
   "source": [
    "c.quality.get_components(root=\"E\", visible=True)"
   ]
  },
  {
   "cell_type": "code",
   "execution_count": 17,
   "metadata": {},
   "outputs": [
    {
     "name": "stdout",
     "output_type": "stream",
     "text": [
      "m7\n"
     ]
    }
   ],
   "source": [
    "print(c.quality)"
   ]
  },
  {
   "cell_type": "code",
   "execution_count": 18,
   "metadata": {},
   "outputs": [
    {
     "data": {
      "text/plain": [
       "'Bb'"
      ]
     },
     "execution_count": 18,
     "metadata": {},
     "output_type": "execute_result"
    }
   ],
   "source": [
    "c.on"
   ]
  },
  {
   "cell_type": "code",
   "execution_count": 19,
   "metadata": {},
   "outputs": [
    {
     "data": {
      "text/plain": [
       "['A', 'C#', 'E']"
      ]
     },
     "execution_count": 19,
     "metadata": {},
     "output_type": "execute_result"
    }
   ],
   "source": [
    "Chord(\"A\").quality.get_components(root=\"A\", visible=True)"
   ]
  },
  {
   "cell_type": "code",
   "execution_count": null,
   "metadata": {},
   "outputs": [],
   "source": []
  }
 ],
 "metadata": {
  "kernelspec": {
   "display_name": "Python 3",
   "language": "python",
   "name": "python3"
  },
  "language_info": {
   "codemirror_mode": {
    "name": "ipython",
    "version": 3
   },
   "file_extension": ".py",
   "mimetype": "text/x-python",
   "name": "python",
   "nbconvert_exporter": "python",
   "pygments_lexer": "ipython3",
   "version": "3.7.4"
  }
 },
 "nbformat": 4,
 "nbformat_minor": 2
}
