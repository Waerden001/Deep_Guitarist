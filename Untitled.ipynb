{
 "cells": [
  {
   "cell_type": "code",
   "execution_count": 1,
   "metadata": {},
   "outputs": [],
   "source": [
    "from pychord import Fretboard"
   ]
  },
  {
   "cell_type": "code",
   "execution_count": 2,
   "metadata": {},
   "outputs": [],
   "source": [
    "PB = Fretboard(\"standard\")\n"
   ]
  },
  {
   "cell_type": "code",
   "execution_count": 3,
   "metadata": {},
   "outputs": [
    {
     "data": {
      "text/plain": [
       "\"standard tuning, low to high = ('E', 'A', 'D', 'G', 'B', 'E')\""
      ]
     },
     "execution_count": 3,
     "metadata": {},
     "output_type": "execute_result"
    }
   ],
   "source": [
    "PB.info()"
   ]
  },
  {
   "cell_type": "code",
   "execution_count": 4,
   "metadata": {},
   "outputs": [
    {
     "data": {
      "text/plain": [
       "[[(1, 2), 'Gb', 0],\n",
       " [(1, 14), 'Gb', 0],\n",
       " [(2, 7), 'Gb', 0],\n",
       " [(2, 19), 'Gb', 0],\n",
       " [(3, 11), 'Gb', 0],\n",
       " [(3, 23), 'Gb', 0],\n",
       " [(4, 4), 'Gb', 0],\n",
       " [(4, 16), 'Gb', 0],\n",
       " [(5, 9), 'Gb', 0],\n",
       " [(5, 21), 'Gb', 0],\n",
       " [(6, 2), 'Gb', 0],\n",
       " [(6, 14), 'Gb', 0]]"
      ]
     },
     "execution_count": 4,
     "metadata": {},
     "output_type": "execute_result"
    }
   ],
   "source": [
    "PB.coordinates('Gb')"
   ]
  },
  {
   "cell_type": "code",
   "execution_count": 5,
   "metadata": {},
   "outputs": [],
   "source": [
    "from pychord import Chord, Scale"
   ]
  },
  {
   "cell_type": "code",
   "execution_count": 17,
   "metadata": {},
   "outputs": [],
   "source": [
    "c = Scale(\"Cmajpenta\")"
   ]
  },
  {
   "cell_type": "code",
   "execution_count": 18,
   "metadata": {},
   "outputs": [
    {
     "data": {
      "text/plain": [
       "<Scale: Cmajpenta>"
      ]
     },
     "execution_count": 18,
     "metadata": {},
     "output_type": "execute_result"
    }
   ],
   "source": [
    "c"
   ]
  },
  {
   "cell_type": "code",
   "execution_count": 19,
   "metadata": {},
   "outputs": [
    {
     "data": {
      "text/plain": [
       "[0, 2, 4, 7, 9]"
      ]
     },
     "execution_count": 19,
     "metadata": {},
     "output_type": "execute_result"
    }
   ],
   "source": [
    "c.quality.components"
   ]
  },
  {
   "cell_type": "code",
   "execution_count": 20,
   "metadata": {},
   "outputs": [
    {
     "data": {
      "text/plain": [
       "['C', 'D', 'E', 'G', 'A']"
      ]
     },
     "execution_count": 20,
     "metadata": {},
     "output_type": "execute_result"
    }
   ],
   "source": [
    "c.components()"
   ]
  },
  {
   "cell_type": "code",
   "execution_count": 21,
   "metadata": {},
   "outputs": [
    {
     "data": {
      "text/plain": [
       "True"
      ]
     },
     "execution_count": 21,
     "metadata": {},
     "output_type": "execute_result"
    }
   ],
   "source": [
    "isinstance(c, Scale)"
   ]
  },
  {
   "cell_type": "code",
   "execution_count": 22,
   "metadata": {},
   "outputs": [
    {
     "data": {
      "text/plain": [
       "[[(1, 0), 'E', 4],\n",
       " [(1, 3), 'G', 7],\n",
       " [(1, 5), 'A', 9],\n",
       " [(1, 8), 'C', 0],\n",
       " [(1, 10), 'D', 2],\n",
       " [(1, 12), 'E', 4],\n",
       " [(1, 15), 'G', 7],\n",
       " [(1, 17), 'A', 9],\n",
       " [(1, 20), 'C', 0],\n",
       " [(1, 22), 'D', 2],\n",
       " [(1, 24), 'E', 4],\n",
       " [(2, 1), 'C', 0],\n",
       " [(2, 3), 'D', 2],\n",
       " [(2, 5), 'E', 4],\n",
       " [(2, 8), 'G', 7],\n",
       " [(2, 10), 'A', 9],\n",
       " [(2, 13), 'C', 0],\n",
       " [(2, 15), 'D', 2],\n",
       " [(2, 17), 'E', 4],\n",
       " [(2, 20), 'G', 7],\n",
       " [(2, 22), 'A', 9],\n",
       " [(3, 0), 'G', 7],\n",
       " [(3, 2), 'A', 9],\n",
       " [(3, 5), 'C', 0],\n",
       " [(3, 7), 'D', 2],\n",
       " [(3, 9), 'E', 4],\n",
       " [(3, 12), 'G', 7],\n",
       " [(3, 14), 'A', 9],\n",
       " [(3, 17), 'C', 0],\n",
       " [(3, 19), 'D', 2],\n",
       " [(3, 21), 'E', 4],\n",
       " [(3, 24), 'G', 7],\n",
       " [(4, 0), 'D', 2],\n",
       " [(4, 2), 'E', 4],\n",
       " [(4, 5), 'G', 7],\n",
       " [(4, 7), 'A', 9],\n",
       " [(4, 10), 'C', 0],\n",
       " [(4, 12), 'D', 2],\n",
       " [(4, 14), 'E', 4],\n",
       " [(4, 17), 'G', 7],\n",
       " [(4, 19), 'A', 9],\n",
       " [(4, 22), 'C', 0],\n",
       " [(4, 24), 'D', 2],\n",
       " [(5, 0), 'A', 9],\n",
       " [(5, 3), 'C', 0],\n",
       " [(5, 5), 'D', 2],\n",
       " [(5, 7), 'E', 4],\n",
       " [(5, 10), 'G', 7],\n",
       " [(5, 12), 'A', 9],\n",
       " [(5, 15), 'C', 0],\n",
       " [(5, 17), 'D', 2],\n",
       " [(5, 19), 'E', 4],\n",
       " [(5, 22), 'G', 7],\n",
       " [(5, 24), 'A', 9],\n",
       " [(6, 0), 'E', 4],\n",
       " [(6, 3), 'G', 7],\n",
       " [(6, 5), 'A', 9],\n",
       " [(6, 8), 'C', 0],\n",
       " [(6, 10), 'D', 2],\n",
       " [(6, 12), 'E', 4],\n",
       " [(6, 15), 'G', 7],\n",
       " [(6, 17), 'A', 9],\n",
       " [(6, 20), 'C', 0],\n",
       " [(6, 22), 'D', 2],\n",
       " [(6, 24), 'E', 4]]"
      ]
     },
     "execution_count": 22,
     "metadata": {},
     "output_type": "execute_result"
    }
   ],
   "source": [
    "PB.coordinates(c)"
   ]
  },
  {
   "cell_type": "code",
   "execution_count": 12,
   "metadata": {},
   "outputs": [
    {
     "data": {
      "text/plain": [
       "['C', 'D', 'E', 'F', 'G', 'A', 'B']"
      ]
     },
     "execution_count": 12,
     "metadata": {},
     "output_type": "execute_result"
    }
   ],
   "source": [
    "c.components()"
   ]
  },
  {
   "cell_type": "code",
   "execution_count": 14,
   "metadata": {},
   "outputs": [
    {
     "data": {
      "text/plain": [
       "['C', 'E', 'G']"
      ]
     },
     "execution_count": 14,
     "metadata": {},
     "output_type": "execute_result"
    }
   ],
   "source": [
    "notes\n"
   ]
  },
  {
   "cell_type": "code",
   "execution_count": 19,
   "metadata": {},
   "outputs": [
    {
     "data": {
      "text/plain": [
       "['A', 'C#', 'E']"
      ]
     },
     "execution_count": 19,
     "metadata": {},
     "output_type": "execute_result"
    }
   ],
   "source": [
    "Chord(\"A\").quality.get_components(root=\"A\", visible=True)"
   ]
  },
  {
   "cell_type": "code",
   "execution_count": null,
   "metadata": {},
   "outputs": [],
   "source": []
  }
 ],
 "metadata": {
  "kernelspec": {
   "display_name": "Python 3",
   "language": "python",
   "name": "python3"
  },
  "language_info": {
   "codemirror_mode": {
    "name": "ipython",
    "version": 3
   },
   "file_extension": ".py",
   "mimetype": "text/x-python",
   "name": "python",
   "nbconvert_exporter": "python",
   "pygments_lexer": "ipython3",
   "version": "3.7.4"
  }
 },
 "nbformat": 4,
 "nbformat_minor": 2
}
